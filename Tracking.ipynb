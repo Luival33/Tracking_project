{
 "cells": [
  {
   "cell_type": "markdown",
   "id": "8b38f3d6",
   "metadata": {},
   "source": [
    "### Importo le cartelle da drive"
   ]
  },
  {
   "cell_type": "code",
   "execution_count": null,
   "id": "4f0df032",
   "metadata": {},
   "outputs": [],
   "source": [
    "from google.colab import drive\n",
    "drive.mount('/content/drive')\n",
    "\n",
    "import cv2"
   ]
  },
  {
   "cell_type": "markdown",
   "id": "cb095b0f",
   "metadata": {},
   "source": [
    "### Verifico la GPU"
   ]
  },
  {
   "cell_type": "code",
   "execution_count": 1,
   "id": "07d2b8fd",
   "metadata": {},
   "outputs": [
    {
     "name": "stderr",
     "output_type": "stream",
     "text": [
      "\"nvidia-smi\" non � riconosciuto come comando interno o esterno,\n",
      " un programma eseguibile o un file batch.\n"
     ]
    }
   ],
   "source": [
    "!nvidia-smi"
   ]
  },
  {
   "cell_type": "markdown",
   "id": "ac362c00",
   "metadata": {},
   "source": [
    "###  Installo YOLOv8"
   ]
  },
  {
   "cell_type": "code",
   "execution_count": null,
   "id": "a467106c",
   "metadata": {},
   "outputs": [],
   "source": [
    "!pip install ultralytics\n",
    "\n",
    "from IPython import display\n",
    "display.clear_output()\n",
    "\n",
    "import ultralytics\n",
    "ultralytics.checks()\n",
    "\n",
    "from IPython.display import display, Image\n",
    "\n",
    "from ultralytics import YOLO"
   ]
  }
 ],
 "metadata": {
  "kernelspec": {
   "display_name": "base",
   "language": "python",
   "name": "python3"
  },
  "language_info": {
   "codemirror_mode": {
    "name": "ipython",
    "version": 3
   },
   "file_extension": ".py",
   "mimetype": "text/x-python",
   "name": "python",
   "nbconvert_exporter": "python",
   "pygments_lexer": "ipython3",
   "version": "3.11.7"
  }
 },
 "nbformat": 4,
 "nbformat_minor": 5
}
