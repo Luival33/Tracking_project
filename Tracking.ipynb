{
 "cells": [
  {
   "cell_type": "markdown",
   "id": "bed2d24e",
   "metadata": {},
   "source": [
    "## Preparando l'ambiente"
   ]
  },
  {
   "cell_type": "markdown",
   "id": "cb095b0f",
   "metadata": {},
   "source": [
    "#### Verifica GPU"
   ]
  },
  {
   "cell_type": "code",
   "execution_count": 1,
   "id": "07d2b8fd",
   "metadata": {},
   "outputs": [
    {
     "name": "stderr",
     "output_type": "stream",
     "text": [
      "\"nvidia-smi\" non � riconosciuto come comando interno o esterno,\n",
      " un programma eseguibile o un file batch.\n"
     ]
    }
   ],
   "source": [
    "!nvidia-smi"
   ]
  },
  {
   "cell_type": "markdown",
   "id": "8b38f3d6",
   "metadata": {},
   "source": [
    "#### Gestione directory drive"
   ]
  },
  {
   "cell_type": "code",
   "execution_count": null,
   "id": "15a3edb6",
   "metadata": {},
   "outputs": [],
   "source": [
    "from google.colab import drive\n",
    "drive.mount('/content/drive')\n",
    "\n",
    "import os\n",
    "\n",
    "base_dir = '/content/drive/MyDrive/Tracking_project'\n",
    "data_yaml_path = os.path.join(base_dir, 'data.yaml')"
   ]
  },
  {
   "cell_type": "markdown",
   "id": "fad04b49",
   "metadata": {},
   "source": [
    "## Installazione librerie"
   ]
  },
  {
   "cell_type": "markdown",
   "id": "ac362c00",
   "metadata": {},
   "source": [
    "#### Ultralytics "
   ]
  },
  {
   "cell_type": "code",
   "execution_count": null,
   "id": "a467106c",
   "metadata": {},
   "outputs": [],
   "source": [
    "!pip install ultralytics==8.3.19\n",
    "\n",
    "from IPython.display import clear_output, display, Image\n",
    "clear_output()\n",
    "\n",
    "!yolo settings sync=false\n",
    "\n",
    "import ultralytics\n",
    "ultralytics.checks()"
   ]
  },
  {
   "cell_type": "markdown",
   "id": "89633d01",
   "metadata": {},
   "source": [
    "#### Supervision"
   ]
  },
  {
   "cell_type": "code",
   "execution_count": null,
   "id": "bcf1da39",
   "metadata": {},
   "outputs": [],
   "source": [
    "!pip install supervision[assets]==0.24.0\n",
    "\n",
    "clear_output()\n",
    "\n",
    "import supervision as sv\n",
    "print(sv.__version__)"
   ]
  },
  {
   "cell_type": "markdown",
   "id": "67cd1f3f",
   "metadata": {},
   "source": [
    "## Yolov8 Training"
   ]
  },
  {
   "cell_type": "code",
   "execution_count": null,
   "id": "2b4168bc",
   "metadata": {},
   "outputs": [],
   "source": [
    "%cd {base_dir}\n",
    "\n",
    "from ultralytics import YOLO\n",
    "\n",
    "model = YOLO('yolov8s.pt')\n",
    "\n",
    "results = model.train(\n",
    "  task='detect',\n",
    "  data=data_yaml_path, \n",
    "  epochs=100, \n",
    "  imgsz=800,\n",
    "  plots=True,\n",
    "  patience=30,\n",
    "  name='first_training'\n",
    ")\n",
    "\n",
    "results_dir = results.save_dir\n",
    "print(f\"risultati addestramento salvati in: {results_dir}\")"
   ]
  },
  {
   "cell_type": "markdown",
   "id": "83699e08",
   "metadata": {},
   "source": [
    "#### Matrice di confusione"
   ]
  },
  {
   "cell_type": "code",
   "execution_count": null,
   "id": "6e084d71",
   "metadata": {},
   "outputs": [],
   "source": [
    "display(Image(filename=f'{results_dir}/confusion_matrix.png', width=600))"
   ]
  },
  {
   "cell_type": "markdown",
   "id": "3a8f0f9a",
   "metadata": {},
   "source": [
    "#### Grafici metriche d'apprendimento"
   ]
  },
  {
   "cell_type": "code",
   "execution_count": null,
   "id": "545e1933",
   "metadata": {},
   "outputs": [],
   "source": [
    "display(Image(filename=f'{results_dir}/results.png', width=600))"
   ]
  },
  {
   "cell_type": "markdown",
   "id": "67c991f5",
   "metadata": {},
   "source": [
    "### Batch di rilevazioni"
   ]
  },
  {
   "cell_type": "code",
   "execution_count": null,
   "id": "f1e2c658",
   "metadata": {},
   "outputs": [],
   "source": [
    "display(Image(filename=f'{results_dir}/val_batch0_pred.jpg'))"
   ]
  },
  {
   "cell_type": "markdown",
   "id": "17b6ee8e",
   "metadata": {},
   "source": [
    "#### Detection test"
   ]
  },
  {
   "cell_type": "code",
   "execution_count": null,
   "id": "42395bac",
   "metadata": {},
   "outputs": [],
   "source": [
    "%cd {base_dir}\n",
    "\n",
    "model_path = os.path.join('runs/detect/first_train8/', 'weights', 'best.pt')\n",
    "\n",
    "source_test_image = os.path.join(base_dir, 'dataset', 'images', 'test')\n",
    "\n",
    "model = YOLO(model_path)\n",
    "\n",
    "prediction_results = model.predict(source=source_test_image, conf=0.25, save=True)"
   ]
  },
  {
   "cell_type": "markdown",
   "id": "7abd3231",
   "metadata": {},
   "source": [
    "### Stampa rilevazioni su frame"
   ]
  },
  {
   "cell_type": "code",
   "execution_count": null,
   "id": "e06b30bf",
   "metadata": {},
   "outputs": [],
   "source": [
    "display(Image(filename=f'{base_dir}/result_image_detection.png', width=600))"
   ]
  },
  {
   "cell_type": "markdown",
   "id": "a4fd25b2",
   "metadata": {},
   "source": [
    "## Tracking"
   ]
  },
  {
   "cell_type": "code",
   "execution_count": null,
   "id": "b9e8321b",
   "metadata": {},
   "outputs": [],
   "source": [
    "%cd {base_dir}\n",
    "\n",
    "from nt import fspath\n",
    "import numpy as np\n",
    "import supervision as sv\n",
    "\n",
    "model_path = os.join('runs/detect/first_train8/', 'weights', 'best.pt')\n",
    "model = YOLO(model_path)\n",
    "\n",
    "input_path = os.path.join(base_dir, \"output.mp4\")\n",
    "output_path = os.path.join(base_dir, \"risultato_tracking..mp4\")\n",
    "\n",
    "video_info = sv.VideoInfo.from_video_path(input_path)\n",
    "\n",
    "byte_tracker = sv.ByteTrack(\n",
    "  track_activatio_threshold=0.25\n",
    "  lost_track_buffer=video_info.fps * 2,\n",
    "  frame_rate=video_info.fps\n",
    ")\n",
    "\n",
    "box_annotator = sv.BoxAnnotator(thickness = 2)\n",
    "trace_annotator = sv.TraceAnnotator(thickness = 2, trace_length=30)\n",
    "\n",
    "label_annotator = sv.LabelAnnotator(\n",
    "  text_position=sv.Position.TOP_CENTER,\n",
    "  text_scale=0.5,\n",
    "  text_thickness=1,\n",
    "  text_color=sv.Color.WHITE\n",
    ")\n",
    "\n",
    "def process_frame(frame: np.ndarray, index: int) -> np.ndarray:\n",
    "  results = model(frame, verbose = False)[0]\n",
    "  detections = sv.Detections.from_ultralytics(results)\n",
    "  detections = byte_tracker.update_with_detections(detections)\n",
    "\n",
    "  labels = [\n",
    "    f\"ID:{tracker_id} {model.model.names[class_id]}\"\n",
    "    for class_id, tracker_id in zip(detections.class_id, detections.tracker_id)\n",
    "  ]\n",
    "\n",
    "  annotated_frame = frame.copy()\n",
    "  annotated_frame = trace_annotator.annotate(scene = annotated_frame, detections = detections)\n",
    "  annotated_frame = box_annotator.annotate(scene = annotated_frame, detections = detections)\n",
    "  annotated_frame = label_annotator.annotate(scene = annotated_frame, detections = detections, labels = labels)\n",
    "\n",
    "  return annotated_frame\n",
    "\n",
    "  sv.process_video(\n",
    "    source_path = input_path,\n",
    "    target_path = output_path,\n",
    "    callback = process_frame\n",
    "  )\n",
    "\n",
    "  print(f\"Video con tracking salvato in: {output_path}\")"
   ]
  },
  {
   "cell_type": "markdown",
   "id": "0a540279",
   "metadata": {},
   "source": [
    "## Semi-supervised learning"
   ]
  },
  {
   "cell_type": "markdown",
   "id": "d25a3798",
   "metadata": {},
   "source": [
    "#### Pseudo labelling"
   ]
  },
  {
   "cell_type": "code",
   "execution_count": null,
   "id": "138e3d22",
   "metadata": {},
   "outputs": [],
   "source": [
    "%cd {base_dir}\n",
    "\n",
    "import os\n",
    "from ultralytics import YOLO\n",
    "import supervision as sv\n",
    "\n",
    "model_path = os.path.join('runs/detect/first_train8/', 'weights', 'best.pt')\n",
    "model = YOLO(model_path)\n",
    "\n",
    "folder_path = os.path.join(base_dir, 'dataset', 'pseudo_labels')\n",
    "os.makedirs(folder_path, exist_ok=True)\n",
    "\n",
    "CONFIDENCE = 0.5\n",
    "\n",
    "frame_generator = sv.get_video_frames_generator(\"video_tagliato_finale.mp4\")\n",
    "\n",
    "for frame_index, frame in enumerate(frame_generator):\n",
    "  results = model(frame, verbose = False)[0]\n",
    "\n",
    "  yolo_format_labels = []\n",
    "  for box in results.boxes:\n",
    "    if box.conf[0] >= CONFIDENCE:\n",
    "      class_id = int(box.cls[0])\n",
    "      xywhn = box.xywhn[0]\n",
    "      x_center, y_center, width, height = xywhn\n",
    "\n",
    "      yolo_format_labels.append(f\"{class_id} {x_center} {y_center} {width} {height}\")\n",
    "  \n",
    "  if yolo_format_labels:\n",
    "    label_path = os.path.join(folder_path, f\"frame_{frame_index:06d}.txt\")\n",
    "    with open(label_path, \"w\") as f:\n",
    "      f.write(\"\\n\".join(yolo_format_labels))\n",
    "\n",
    "print(f\"Pseudo-labels generate con successo\")"
   ]
  }
 ],
 "metadata": {
  "kernelspec": {
   "display_name": "base",
   "language": "python",
   "name": "python3"
  },
  "language_info": {
   "codemirror_mode": {
    "name": "ipython",
    "version": 3
   },
   "file_extension": ".py",
   "mimetype": "text/x-python",
   "name": "python",
   "nbconvert_exporter": "python",
   "pygments_lexer": "ipython3",
   "version": "3.11.7"
  }
 },
 "nbformat": 4,
 "nbformat_minor": 5
}
