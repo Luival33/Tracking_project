{
 "cells": [
  {
   "cell_type": "markdown",
   "id": "cb095b0f",
   "metadata": {},
   "source": [
    "### Verifico la GPU"
   ]
  },
  {
   "cell_type": "code",
   "execution_count": 1,
   "id": "07d2b8fd",
   "metadata": {},
   "outputs": [
    {
     "name": "stderr",
     "output_type": "stream",
     "text": [
      "\"nvidia-smi\" non � riconosciuto come comando interno o esterno,\n",
      " un programma eseguibile o un file batch.\n"
     ]
    }
   ],
   "source": [
    "!nvidia-smi"
   ]
  },
  {
   "cell_type": "markdown",
   "id": "8b38f3d6",
   "metadata": {},
   "source": [
    "### Importo le cartelle da drive"
   ]
  },
  {
   "cell_type": "code",
   "execution_count": null,
   "id": "4f0df032",
   "metadata": {},
   "outputs": [],
   "source": [
    "from google.colab import drive\n",
    "drive.mount('/content/drive')\n",
    "\n",
    "import os\n",
    "\n",
    "base_dir = '/content/drive/MyDrive/Tracking_project'\n",
    "\n",
    "data_yaml_path = os.path.join(base_dir, 'data.yaml')\n",
    "\n",
    "print(f\"percorso base: {base_dir}\")\n",
    "print(f\"percorso del file yaml: {data_yaml_path}\")"
   ]
  },
  {
   "cell_type": "markdown",
   "id": "ac362c00",
   "metadata": {},
   "source": [
    "###  Installo YOLOv8"
   ]
  },
  {
   "cell_type": "code",
   "execution_count": null,
   "id": "a467106c",
   "metadata": {},
   "outputs": [],
   "source": [
    "!pip install ultralytics==8.3.19\n",
    "\n",
    "from IPython.display import clear_output, display, Image\n",
    "clear_output()\n",
    "\n",
    "!yolo settings sync=false\n",
    "\n",
    "import ultralytics\n",
    "ultralytics.checks()\n",
    "\n",
    "from ultralytics import YOLO"
   ]
  },
  {
   "cell_type": "markdown",
   "id": "67cd1f3f",
   "metadata": {},
   "source": [
    "### Training"
   ]
  },
  {
   "cell_type": "code",
   "execution_count": null,
   "id": "2b4168bc",
   "metadata": {},
   "outputs": [],
   "source": [
    "%cd {base_dir}\n",
    "\n",
    "model = YOLO('yolov8n.pt')\n",
    "\n",
    "results = model.train(\n",
    "  task='detect',\n",
    "  data=data_yaml_path, \n",
    "  model='yolov8n.pt', \n",
    "  epochs=100, \n",
    "  imgsz=640,\n",
    "  plots=True,\n",
    "  patience=30,\n",
    "  name='first_training'\n",
    ")\n",
    "\n",
    "results_dir = results.save_dir\n",
    "\n",
    "print(f\"risultati salvati in: {results_dir}\")"
   ]
  }
 ],
 "metadata": {
  "kernelspec": {
   "display_name": "base",
   "language": "python",
   "name": "python3"
  },
  "language_info": {
   "codemirror_mode": {
    "name": "ipython",
    "version": 3
   },
   "file_extension": ".py",
   "mimetype": "text/x-python",
   "name": "python",
   "nbconvert_exporter": "python",
   "pygments_lexer": "ipython3",
   "version": "3.11.7"
  }
 },
 "nbformat": 4,
 "nbformat_minor": 5
}
